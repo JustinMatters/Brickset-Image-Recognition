{
 "cells": [
  {
   "cell_type": "code",
   "execution_count": 4,
   "metadata": {},
   "outputs": [],
   "source": [
    "#!/usr/bin/python\n",
    "import os\n",
    "import sys\n",
    "import random\n",
    "from PIL import Image # used for image resizing\n",
    "import pickle # used for retrieving saved data\n",
    "import shutil # used for rapid image copying\n",
    "import collections # used for checking category sizes"
   ]
  },
  {
   "cell_type": "code",
   "execution_count": 5,
   "metadata": {},
   "outputs": [
    {
     "name": "stdout",
     "output_type": "stream",
     "text": [
      "14\n"
     ]
    }
   ],
   "source": [
    "# resize the images in a specified path and write them back to a different path\n",
    "\n",
    "# this is slightly larger than the 224x224 dimensions needed for VGG16 which allows for data augmentation later if required\n",
    "width = 256\n",
    "height = 256\n",
    "\n",
    "in_path = \"C:/Users/Justin/Pictures/Lego/thumbnails/\"\n",
    "out_path = \"C:/Users/Justin/Pictures/Lego/preprocessed/\"\n",
    "os.chdir(in_path)\n",
    "contents = os.listdir(in_path)\n",
    "\n",
    "def resize():\n",
    "    counter = 0\n",
    "    for item in contents:\n",
    "        # check that the file in question is a file not a folder\n",
    "        if os.path.isfile(in_path+item):\n",
    "            counter +=1\n",
    "            im = Image.open(in_path+item)\n",
    "            imResize = im.resize((width,height), Image.ANTIALIAS)\n",
    "            imResize.save(out_path + item, 'JPEG', quality=90)\n",
    "    # tell us how many images we managed to resize\n",
    "    print (counter)\n",
    "        \n",
    "resize()"
   ]
  },
  {
   "cell_type": "code",
   "execution_count": 6,
   "metadata": {},
   "outputs": [
    {
     "name": "stdout",
     "output_type": "stream",
     "text": [
      "11677\n",
      "[('4793-1', 'Ogel Shark Sub', 'Alpha', 'https://images.brickset.com/sets/small/4793-1.jpg?200110291200', '2002', ['Ogel Minion Commander', 'Ogel Minion', 'Submarine', 'Underwater']), ('4794-1', 'Alpha Team Command Sub', 'Alpha', 'https://images.brickset.com/sets/small/4794-1.jpg?200112121200', '2002', ['Crunch', 'Radia', 'Mobile Base', 'Submarine', 'Underwater']), ('4795-1', 'Ogel Underwater Base and AT Sub', 'Alpha', 'https://images.brickset.com/sets/small/4795-1.jpg?200110301200', '2002', ['Dash Justice', 'Ogel Minion', 'Ogel', 'Base', 'Criminal Hideout', 'Submarine', 'Underwater']), ('4796-1', 'Ogel Mutant Squid', 'Alpha', 'https://images.brickset.com/sets/small/4796-1.jpg?200110301200', '2002', ['Ogel', 'Squid', 'Underwater']), ('4797-1', 'Ogel Mutant Killer Whale', 'Alpha', 'https://images.brickset.com/sets/small/4797-1.jpg?200110301200', '2002', ['Ogel Minion', 'Underwater'])]\n"
     ]
    }
   ],
   "source": [
    "# Getting back the metadata for the images\n",
    "path = \"C:/Users/Justin/Pictures/Lego/\"\n",
    "os.chdir(path)\n",
    "with open('LegoDataClean.pkl', 'rb') as f:  # Python 3: open(..., 'rb')\n",
    "    imported_dataset = pickle.load(f)\n",
    "\n",
    "# check data is what we expect\n",
    "print (len(imported_dataset))\n",
    "print (imported_dataset[30:35])"
   ]
  },
  {
   "cell_type": "code",
   "execution_count": 7,
   "metadata": {},
   "outputs": [
    {
     "name": "stdout",
     "output_type": "stream",
     "text": [
      "Counter({'Gear': 1904, 'Duplo': 777, 'Star': 611, 'Collectable': 520, 'City': 517, 'Creator': 368, 'Promotional': 359, 'Bionicle': 336, 'Friends': 295, 'Books': 264, 'Ninjago': 253, 'Town': 252, 'Racers': 242, 'Technic': 217, 'Samsonite': 186, 'Education': 183, 'The': 163, 'Castle': 159, 'System': 158, 'LEGOLAND': 154, 'Bulk': 141, 'Legends': 138, 'Seasonal': 133, 'Miscellaneous': 126, 'Space': 125, 'Sports': 123, 'Explore': 119, 'Trains': 113, 'Fabuland': 107, 'HERO': 104, 'Marvel': 102, 'Nexo': 100, 'DC': 100, 'Mixels': 90, 'Dacta': 82, 'Belville': 77, 'Clikits': 76, 'Dimensions': 68, 'Juniors': 67, 'Bricks': 64, 'Mindstorms': 63, 'Scala': 61, 'BrickHeadz': 60, 'Advanced': 59, 'Harry': 56, 'Studios': 55, 'Classic': 50, 'Freestyle': 49, 'World': 47, 'Games': 46, 'Architecture': 44, 'Make': 43, 'Universal': 42, 'Adventurers': 42, 'Disney': 42, 'Elves': 41, 'Minecraft': 40, 'Baby': 40, 'Exo-Force': 39, 'Pirates': 39, 'Power': 37, 'Alpha': 32, 'Homemaker': 32, 'Cars': 28, 'Speed': 28, 'Building': 27, 'Jack': 25, 'Primo': 25, 'Atlantis': 24, '4': 23, 'Unikitty!': 22, 'Ideas': 21, 'Service': 21, 'Galidor': 20, 'Teenage': 20, 'Znap': 20, 'Jurassic': 19, 'Dino': 18, 'Indiana': 18, 'Batman': 15, 'Toy': 15, 'Ultra': 14, 'SpongeBob': 14, 'Master': 14, 'Agents': 13, 'Monster': 13, 'Serious': 13, 'Island': 13, 'Dinosaurs': 12, 'Quatro': 10, \"Pharaoh's\": 9, 'Spider-Man': 9, 'Action': 9, 'Hobby': 9, 'Xtra': 8, 'Aqua': 7, 'Rock': 7, 'Vikings': 7, 'Factory': 7, 'Wizarding': 7, 'Ben': 6, 'Prince': 6, 'Scooby-Doo': 6, 'Discovery': 6, 'Minitalia': 6, 'Fusion': 4, 'PreSchool': 4, 'Spybotics': 4, 'Western': 3, 'Legoland': 3, 'Aquazone': 2, '-1': 2, 'Avatar': 2, 'Ghostbusters': 2, 'Life': 2, 'Boost': 1, 'Model': 1, 'CITY': 1})\n"
     ]
    }
   ],
   "source": [
    "#some of the classes may prove to be very small, we need to  find the large sets with > 100 images\n",
    "\n",
    "# create a dictionary of categories and number of members\n",
    "categories_extracted = [x[2] for x in imported_dataset]\n",
    "counted_categories =collections.Counter(categories_extracted)\n",
    "print (counted_categories)"
   ]
  },
  {
   "cell_type": "code",
   "execution_count": 8,
   "metadata": {},
   "outputs": [
    {
     "name": "stdout",
     "output_type": "stream",
     "text": [
      "[('2947-1', 'Speedbike', 'Action', 'https://images.brickset.com/sets/small/2947-1.jpg?200012231200', '2001', ['Pullback Motor']), ('2913-1', 'Construction', 'Action', 'https://images.brickset.com/sets/small/2913-1.jpg?200012011200', '2000', ['Construction', 'Excavator', 'Front Loader', 'Tracked Vehicle']), ('2904-1', 'Motorbike', 'Action', 'https://images.brickset.com/sets/small/2904-1.jpg?200012011200', '2000', ['Motorcycle', 'Sidecar']), ('2916-1', 'MyBot', 'Action', 'https://images.brickset.com/sets/small/2916-1.jpg?200012011200', '2000', ['']), ('10184-1', 'Town Plan', 'Advanced', 'https://images.brickset.com/sets/small/10184-1.jpg?200712220504', '2008', ['Anniversary Set', 'Art Deco', 'Baseplate', 'Brick Built Tree', 'Car Wash', 'Cinema', 'Lamppost', 'Octan', 'Service Station', 'Tanker Vehicle', 'Wedding'])]\n"
     ]
    }
   ],
   "source": [
    "# shuffle up our examples to ensure that train, validation and test sets have similar distributions\n",
    "random.shuffle(imported_dataset)\n",
    "\n",
    "# then sort by set type\n",
    "set_type_dataset = sorted(imported_dataset, key=lambda x: x[2])\n",
    "\n",
    "print (set_type_dataset[30:35])"
   ]
  },
  {
   "cell_type": "code",
   "execution_count": 9,
   "metadata": {},
   "outputs": [],
   "source": [
    "# create a new training set list which only contains items in a subsetted list\n",
    "limited_list = ['Duplo', 'Star', 'City', 'Creator', 'Bionicle', 'Ninjago', 'Town',\n",
    "                'Racers', 'Technic', 'Castle', 'System', 'LEGOLAND', 'Space', 'Sports', \n",
    "                'Explore', 'Trains', 'Fabuland', 'HERO', 'Marvel', 'DC']"
   ]
  },
  {
   "cell_type": "code",
   "execution_count": 10,
   "metadata": {},
   "outputs": [
    {
     "name": "stdout",
     "output_type": "stream",
     "text": [
      "[('1419-1', 'Nokama', 'Bionicle', 'https://images.brickset.com/sets/small/1419-1.jpg?200111171200', '2001', ['Female', 'Kabaya', 'Mata Nui (Location)', 'Polybag', 'Water']), ('7217-1', 'Duracell Bad Guy', 'Bionicle', 'https://images.brickset.com/sets/small/7217-1.jpg?201806180838', '2006', ['']), ('8926-1', 'Toa Undersea Attack', 'Bionicle', 'https://images.brickset.com/sets/small/8926-1.jpg?200707010609', '2007', ['Mahri Nui', 'The Pit']), ('70793-1', 'Skull Basher', 'Bionicle', 'https://images.brickset.com/sets/small/70793-1.jpg?201506271117', '2015', ['Bionicle Villains', 'Bull Skull Mask', 'Ccbs', 'Earth', 'Golden Mask Of Power', 'Mask Of Earth', 'Okoto', 'Skull Army']), ('8694-1', 'Krika', 'Bionicle', 'https://images.brickset.com/sets/small/8694-1.jpg?200805251204', '2008', ['Bionicle Villains', 'Brotherhood Of Makuta', 'Karda Nui', 'Makuta'])]\n",
      "4937\n"
     ]
    }
   ],
   "source": [
    "#create a new list which only contains entries from our chosen categories\n",
    "limited_dataset = []\n",
    "\n",
    "for row in set_type_dataset:\n",
    "    if row[2] in limited_list:\n",
    "        limited_dataset += [row]\n",
    "\n",
    "# check our new dataset looks plausible\n",
    "print (limited_dataset[30:35])\n",
    "print (len(limited_dataset))"
   ]
  },
  {
   "cell_type": "code",
   "execution_count": 11,
   "metadata": {},
   "outputs": [
    {
     "name": "stdout",
     "output_type": "stream",
     "text": [
      "['Racers', 'Star', 'Castle', 'Trains', 'Marvel', 'Creator', 'Technic', 'Fabuland', 'Duplo', 'Space', 'Sports', 'Town', 'City', 'System', 'LEGOLAND', 'DC', 'Bionicle', 'Explore', 'HERO', 'Ninjago']\n"
     ]
    }
   ],
   "source": [
    "# set up our keras folders\n",
    "\n",
    "# specify base directories\n",
    "source_directory = \"C:/Users/Justin/Pictures/Lego/preprocessed/\"\n",
    "train_directory = \"C:/Users/Justin/Pictures/Lego/data/train/\"\n",
    "validation_directory = \"C:/Users/Justin/Pictures/Lego/data/validation/\"\n",
    "test_directory = \"C:/Users/Justin/Pictures/Lego/data/test/\"\n",
    "\n",
    "# need to extract the categories to set up appropriate folders in train, test and validate\n",
    "categories = []\n",
    "for row in limited_dataset:\n",
    "    categories += [row[2]]\n",
    "\n",
    "categories = list(set(categories))\n",
    "# check our list is correct\n",
    "print (categories)\n",
    "\n",
    "for category in categories:\n",
    "    os.makedirs(os.path.dirname(train_directory+category+\"/\"), exist_ok=True)\n",
    "    os.makedirs(os.path.dirname(test_directory+category+\"/\"), exist_ok=True)\n",
    "    os.makedirs(os.path.dirname(validation_directory+category+\"/\"), exist_ok=True)"
   ]
  },
  {
   "cell_type": "code",
   "execution_count": 12,
   "metadata": {},
   "outputs": [],
   "source": [
    "# load the various classes of images and place them in train validation and test folders in an 8:1:1 ratio\n",
    "import shutil \n",
    "row_number = 0\n",
    "\n",
    "def assign_image(image_name, source, target):\n",
    "    shutil.copyfile(source + image_name, target + image_name)\n",
    "    #image = Image.open(source_directory+image_name)\n",
    "    #image.save(target_directory + image_name, 'JPEG', quality=90)\n",
    "\n",
    "# cycle over dataset rows\n",
    "for row in limited_dataset:\n",
    "    # assign 1/10 to validations, 1/10 to test and the rest to train\n",
    "    if row_number % 10 == 0:\n",
    "        # note generators for filename AND also for destination directory\n",
    "        assign_image(row[0] + \"_\" + row[2] + \"_\" + row[4] + '.jpg', source_directory, validation_directory+row[2]+\"/\")\n",
    "    elif (row_number - 1) % 10 == 0:\n",
    "        assign_image(row[0] + \"_\" + row[2] + \"_\" + row[4] + '.jpg', source_directory, test_directory+row[2]+\"/\")\n",
    "    else:\n",
    "        assign_image(row[0] + \"_\" + row[2] + \"_\" + row[4] + '.jpg', source_directory, train_directory+row[2]+\"/\")\n",
    "    row_number += 1"
   ]
  },
  {
   "cell_type": "code",
   "execution_count": 13,
   "metadata": {},
   "outputs": [],
   "source": [
    "# finally lets pickle the subset we intend to use in case it comes in handy\n",
    "import pickle\n",
    "\n",
    "path = \"C:/Users/Justin/Pictures/Lego/\"\n",
    "os.chdir(path)\n",
    "\n",
    "with open('LegoDataTop20Categories.pkl', 'wb') as file:  # Python 3: open(..., 'wb')\n",
    "    pickle.dump(limited_dataset, file)"
   ]
  }
 ],
 "metadata": {
  "kernelspec": {
   "display_name": "Python 3",
   "language": "python",
   "name": "python3"
  },
  "language_info": {
   "codemirror_mode": {
    "name": "ipython",
    "version": 3
   },
   "file_extension": ".py",
   "mimetype": "text/x-python",
   "name": "python",
   "nbconvert_exporter": "python",
   "pygments_lexer": "ipython3",
   "version": "3.6.4"
  }
 },
 "nbformat": 4,
 "nbformat_minor": 2
}
