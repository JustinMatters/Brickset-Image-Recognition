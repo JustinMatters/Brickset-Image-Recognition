{
 "cells": [
  {
   "cell_type": "code",
   "execution_count": 4,
   "metadata": {},
   "outputs": [
    {
     "name": "stderr",
     "output_type": "stream",
     "text": [
      "C:\\Users\\Justin\\Anaconda3\\lib\\site-packages\\h5py\\__init__.py:36: FutureWarning: Conversion of the second argument of issubdtype from `float` to `np.floating` is deprecated. In future, it will be treated as `np.float64 == np.dtype(float).type`.\n",
      "  from ._conv import register_converters as _register_converters\n",
      "Using TensorFlow backend.\n"
     ]
    }
   ],
   "source": [
    "\n",
    "import numpy as np\n",
    "from keras.preprocessing.image import ImageDataGenerator, img_to_array, load_img\n",
    "from keras.models import Sequential\n",
    "from keras.layers import Dropout, Flatten, Dense\n",
    "from keras import applications\n",
    "from keras.utils.np_utils import to_categorical\n",
    "import matplotlib.pyplot as plt\n",
    "import math\n",
    "import cv2\n",
    "import os\n",
    "#import PIL\n",
    "from PIL import Image"
   ]
  },
  {
   "cell_type": "code",
   "execution_count": 8,
   "metadata": {},
   "outputs": [
    {
     "name": "stdout",
     "output_type": "stream",
     "text": [
      "C:\\Users\\Justin\\Documents\\Python Scripts\\JupyterNotebooks\\Machine Learning pipeline\n",
      "C:\\Users\\Justin\\Pictures\\Lego\n"
     ]
    }
   ],
   "source": [
    "# dimensions of our images.\n",
    "img_width, img_height = 224, 224\n",
    "\n",
    "print (os.getcwd())\n",
    "path = \"C:/Users/Justin/Pictures/Lego\"\n",
    "os.chdir(path)\n",
    "print (os.getcwd())\n",
    "\n",
    "top_model_weights_path = 'bottleneck_fc_model.h5'\n",
    "train_data_dir = 'data/train'\n",
    "validation_data_dir = 'data/validation'\n",
    "\n",
    "# number of epochs to train top model\n",
    "epochs = 6\n",
    "# batch size used by flow_from_directory and predict_generator\n",
    "batch_size = 16"
   ]
  },
  {
   "cell_type": "code",
   "execution_count": 3,
   "metadata": {},
   "outputs": [],
   "source": [
    "def save_bottlebeck_features():\n",
    "    # build the VGG16 network\n",
    "    model = applications.VGG16(include_top=False, weights='imagenet')\n",
    "\n",
    "    datagen = ImageDataGenerator(rescale=1. / 255)\n",
    "\n",
    "    generator = datagen.flow_from_directory(\n",
    "        train_data_dir,\n",
    "        target_size=(img_width, img_height),\n",
    "        batch_size=batch_size,\n",
    "        class_mode=None,\n",
    "        shuffle=False)\n",
    "\n",
    "    print(len(generator.filenames))\n",
    "    print(generator.class_indices)\n",
    "    print(len(generator.class_indices))\n",
    "\n",
    "    nb_train_samples = len(generator.filenames)\n",
    "    num_classes = len(generator.class_indices)\n",
    "\n",
    "    predict_size_train = int(math.ceil(nb_train_samples / batch_size))\n",
    "\n",
    "    bottleneck_features_train = model.predict_generator(\n",
    "        generator, predict_size_train)\n",
    "\n",
    "    np.save('bottleneck_features_train.npy', bottleneck_features_train)\n",
    "\n",
    "    generator = datagen.flow_from_directory(\n",
    "        validation_data_dir,\n",
    "        target_size=(img_width, img_height),\n",
    "        batch_size=batch_size,\n",
    "        class_mode=None,\n",
    "        shuffle=False)\n",
    "\n",
    "    nb_validation_samples = len(generator.filenames)\n",
    "\n",
    "    predict_size_validation = int(\n",
    "        math.ceil(nb_validation_samples / batch_size))\n",
    "\n",
    "    bottleneck_features_validation = model.predict_generator(\n",
    "        generator, predict_size_validation)\n",
    "\n",
    "    np.save('bottleneck_features_validation.npy',\n",
    "            bottleneck_features_validation)"
   ]
  },
  {
   "cell_type": "code",
   "execution_count": 4,
   "metadata": {},
   "outputs": [],
   "source": [
    "def train_top_model():\n",
    "    datagen_top = ImageDataGenerator(rescale=1. / 255)\n",
    "    generator_top = datagen_top.flow_from_directory(\n",
    "        train_data_dir,\n",
    "        target_size=(img_width, img_height),\n",
    "        batch_size=batch_size,\n",
    "        class_mode='categorical',\n",
    "        shuffle=False)\n",
    "\n",
    "    nb_train_samples = len(generator_top.filenames)\n",
    "    num_classes = len(generator_top.class_indices)\n",
    "\n",
    "    # save the class indices to use use later in predictions\n",
    "    np.save('class_indices.npy', generator_top.class_indices)\n",
    "\n",
    "    # load the bottleneck features saved earlier\n",
    "    train_data = np.load('bottleneck_features_train.npy')\n",
    "\n",
    "    # get the class lebels for the training data, in the original order\n",
    "    train_labels = generator_top.classes\n",
    "\n",
    "    # https://github.com/fchollet/keras/issues/3467\n",
    "    # convert the training labels to categorical vectors\n",
    "    train_labels = to_categorical(train_labels, num_classes=num_classes)\n",
    "\n",
    "    generator_top = datagen_top.flow_from_directory(\n",
    "        validation_data_dir,\n",
    "        target_size=(img_width, img_height),\n",
    "        batch_size=batch_size,\n",
    "        class_mode=None,\n",
    "        shuffle=False)\n",
    "\n",
    "    nb_validation_samples = len(generator_top.filenames)\n",
    "\n",
    "    validation_data = np.load('bottleneck_features_validation.npy')\n",
    "\n",
    "    validation_labels = generator_top.classes\n",
    "    validation_labels = to_categorical(\n",
    "        validation_labels, num_classes=num_classes)\n",
    "\n",
    "    # add the top layers to the model \n",
    "    model = Sequential()\n",
    "    model.add(Flatten(input_shape=train_data.shape[1:]))\n",
    "    model.add(Dense(256, activation='relu'))\n",
    "    model.add(Dropout(0.5))\n",
    "    model.add(Dense(num_classes, activation='sigmoid'))\n",
    "\n",
    "    model.compile(optimizer='rmsprop',\n",
    "                  loss='categorical_crossentropy', metrics=['accuracy'])\n",
    "\n",
    "    history = model.fit(train_data, train_labels,\n",
    "                        epochs=epochs,\n",
    "                        batch_size=batch_size,\n",
    "                        validation_data=(validation_data, validation_labels))\n",
    "\n",
    "    model.save_weights(top_model_weights_path)\n",
    "\n",
    "    (eval_loss, eval_accuracy) = model.evaluate(\n",
    "        validation_data, validation_labels, batch_size=batch_size, verbose=1)\n",
    "\n",
    "    print(\"[INFO] accuracy: {:.2f}%\".format(eval_accuracy * 100))\n",
    "    print(\"[INFO] Loss: {}\".format(eval_loss))\n",
    "\n",
    "    plt.figure(1)\n",
    "\n",
    "    # summarize history for accuracy\n",
    "\n",
    "    plt.subplot(211)\n",
    "    plt.plot(history.history['acc'])\n",
    "    plt.plot(history.history['val_acc'])\n",
    "    plt.title('model accuracy')\n",
    "    plt.ylabel('accuracy')\n",
    "    plt.xlabel('epoch')\n",
    "    plt.legend(['train', 'valid'], loc='upper left')\n",
    "\n",
    "    # summarize history for loss\n",
    "\n",
    "    plt.subplot(212)\n",
    "    plt.plot(history.history['loss'])\n",
    "    plt.plot(history.history['val_loss'])\n",
    "    plt.title('model loss')\n",
    "    plt.ylabel('loss')\n",
    "    plt.xlabel('epoch')\n",
    "    plt.legend(['train', 'valid'], loc='upper left')\n",
    "    plt.show()"
   ]
  },
  {
   "cell_type": "code",
   "execution_count": 5,
   "metadata": {},
   "outputs": [
    {
     "name": "stdout",
     "output_type": "stream",
     "text": [
      "Found 3949 images belonging to 20 classes.\n",
      "3949\n",
      "{'Bionicle': 0, 'Castle': 1, 'City': 2, 'Creator': 3, 'DC': 4, 'Duplo': 5, 'Explore': 6, 'Fabuland': 7, 'HERO': 8, 'LEGOLAND': 9, 'Marvel': 10, 'Ninjago': 11, 'Racers': 12, 'Space': 13, 'Sports': 14, 'Star': 15, 'System': 16, 'Technic': 17, 'Town': 18, 'Trains': 19}\n",
      "20\n",
      "Found 494 images belonging to 20 classes.\n",
      "Found 3949 images belonging to 20 classes.\n",
      "Found 494 images belonging to 20 classes.\n",
      "Train on 3949 samples, validate on 494 samples\n",
      "Epoch 1/6\n",
      "3949/3949 [==============================] - 16s 4ms/step - loss: 3.5029 - acc: 0.1367 - val_loss: 2.3566 - val_acc: 0.3138\n",
      "Epoch 2/6\n",
      "3949/3949 [==============================] - 16s 4ms/step - loss: 2.2638 - acc: 0.3013 - val_loss: 1.6715 - val_acc: 0.4636\n",
      "Epoch 3/6\n",
      "3949/3949 [==============================] - 16s 4ms/step - loss: 1.8310 - acc: 0.4490 - val_loss: 1.4720 - val_acc: 0.5729\n",
      "Epoch 4/6\n",
      "3949/3949 [==============================] - 16s 4ms/step - loss: 1.5073 - acc: 0.5558 - val_loss: 1.4170 - val_acc: 0.6073\n",
      "Epoch 5/6\n",
      "3949/3949 [==============================] - 16s 4ms/step - loss: 1.2857 - acc: 0.6090 - val_loss: 1.2596 - val_acc: 0.6619\n",
      "Epoch 6/6\n",
      "3949/3949 [==============================] - 16s 4ms/step - loss: 1.1445 - acc: 0.6521 - val_loss: 1.2088 - val_acc: 0.6599\n",
      "494/494 [==============================] - 0s 305us/step\n",
      "[INFO] accuracy: 65.99%\n",
      "[INFO] Loss: 1.2088162039938244\n"
     ]
    },
    {
     "data": {
      "image/png": "[encoded data removed]",
      "text/plain": [
       "<matplotlib.figure.Figure at 0x218095172b0>"
      ]
     },
     "metadata": {},
     "output_type": "display_data"
    }
   ],
   "source": [
    "#train the model\n",
    "save_bottlebeck_features()\n",
    "train_top_model()\n",
    "#predict()\n",
    "\n",
    "#cv2.destroyAllWindows()"
   ]
  },
  {
   "cell_type": "code",
   "execution_count": 9,
   "metadata": {},
   "outputs": [],
   "source": [
    "def build_model2(class_dictionary, num_classes):\n",
    "    \n",
    "    # build the VGG16 network\n",
    "    model1 = applications.VGG16(include_top=False, weights='imagenet')\n",
    "    #model2 = applications.VGG16(include_top=False, weights='imagenet')\n",
    "    \n",
    "    # build top model\n",
    "    model2 = Sequential()\n",
    "    model2.add(Flatten(input_shape=(7, 7, 512))) # (7, 7, 512) bottleneck_prediction.shape[1:]\n",
    "    model2.add(Dense(256, activation='relu'))\n",
    "    model2.add(Dropout(0.5))\n",
    "    model2.add(Dense(num_classes, activation='sigmoid'))\n",
    "\n",
    "    model2.load_weights(top_model_weights_path)\n",
    "    return model1, model2"
   ]
  },
  {
   "cell_type": "code",
   "execution_count": 10,
   "metadata": {},
   "outputs": [],
   "source": [
    "def prediction2(image_name, class_dictionary, model_1, model_2):\n",
    "\n",
    "    # add the path to your test image below\n",
    "    image_path = image_name\n",
    "\n",
    "    orig = cv2.imread(image_path)\n",
    "\n",
    "    print(\"[INFO] loading and preprocessing image...\")\n",
    "    image = load_img(image_path, target_size=(224, 224))\n",
    "    image = img_to_array(image)\n",
    "\n",
    "    # important! otherwise the predictions will be '0'\n",
    "    image = image / 255\n",
    "\n",
    "    image = np.expand_dims(image, axis=0)\n",
    "\n",
    "    # get the bottleneck prediction from the pre-trained VGG16 model\n",
    "    bottleneck_prediction = model_1.predict(image)\n",
    "\n",
    "    # use the bottleneck prediction on the top model to get the final\n",
    "    # classification\n",
    "    class_predicted = model_2.predict_classes(bottleneck_prediction)\n",
    "\n",
    "    probabilities = model_2.predict_proba(bottleneck_prediction)\n",
    "\n",
    "    inID = class_predicted[0]\n",
    "\n",
    "    inv_map = {v: k for k, v in class_dictionary.items()}\n",
    "\n",
    "    label = inv_map[inID]\n",
    "\n",
    "    # get the prediction label\n",
    "    #print(\"Image ID: {}, Label: {}\".format(inID, label))\n",
    "    return label"
   ]
  },
  {
   "cell_type": "code",
   "execution_count": 20,
   "metadata": {},
   "outputs": [
    {
     "name": "stdout",
     "output_type": "stream",
     "text": [
      "1\n",
      "[('data/test/Technic/8260-1_Technic_2009.jpg', 'Technic')]\n"
     ]
    }
   ],
   "source": [
    "test_image_paths = []\n",
    "test_image_directories = []\n",
    "\n",
    "test_image_directories = os.listdir('data/test/')\n",
    "\n",
    "for directory in test_image_directories:\n",
    "    test_images = os.listdir('data/test/'+ directory)\n",
    "    for timage in test_images:\n",
    "        test_image_paths += [('data/test/'+ directory + '/' + timage, directory)]\n",
    "    \n",
    "print (len(test_image_paths))\n",
    "print (test_image_paths[0:])"
   ]
  },
  {
   "cell_type": "code",
   "execution_count": 21,
   "metadata": {},
   "outputs": [
    {
     "name": "stdout",
     "output_type": "stream",
     "text": [
      "[INFO] loading and preprocessing image...\n",
      "Actual: Technic        Predicted: Technic\n",
      "true\n",
      "Percentage correct = 100.0\n"
     ]
    }
   ],
   "source": [
    "true = 0\n",
    "total = 0\n",
    "\n",
    "# load and calculate our constant variables\n",
    "class_dictionary = np.load('class_indices.npy').item()\n",
    "num_classes = len(class_dictionary)\n",
    "model_1, model_2 = build_model2(class_dictionary, num_classes)\n",
    "\n",
    "for candidate in test_image_paths[0:]:\n",
    "    answer = prediction2(candidate[0], class_dictionary, model_1, model_2)\n",
    "    print (\"Actual: \"+ candidate[1] + \"        Predicted: \" + answer)\n",
    "    total += 1\n",
    "    if candidate[1] == answer:\n",
    "        print (\"true\")\n",
    "        true +=1\n",
    "\n",
    "print ('Percentage correct = ' + str(true/total*100))"
   ]
  },
  {
   "cell_type": "code",
   "execution_count": null,
   "metadata": {},
   "outputs": [],
   "source": []
  }
 ],
 "metadata": {
  "kernelspec": {
   "display_name": "Python 3",
   "language": "python",
   "name": "python3"
  },
  "language_info": {
   "codemirror_mode": {
    "name": "ipython",
    "version": 3
   },
   "file_extension": ".py",
   "mimetype": "text/x-python",
   "name": "python",
   "nbconvert_exporter": "python",
   "pygments_lexer": "ipython3",
   "version": "3.6.4"
  }
 },
 "nbformat": 4,
 "nbformat_minor": 2
}
